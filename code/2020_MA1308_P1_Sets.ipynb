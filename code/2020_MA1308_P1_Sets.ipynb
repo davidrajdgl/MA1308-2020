{
  "nbformat": 4,
  "nbformat_minor": 0,
  "metadata": {
    "colab": {
      "name": "2020_MA1308_P1_Sets.ipynb",
      "provenance": [],
      "collapsed_sections": []
    },
    "kernelspec": {
      "name": "python3",
      "display_name": "Python 3"
    }
  },
  "cells": [
    {
      "cell_type": "markdown",
      "metadata": {
        "id": "j12NKoR3joL7",
        "colab_type": "text"
      },
      "source": [
        "# Introuduction to Sets"
      ]
    },
    {
      "cell_type": "code",
      "metadata": {
        "id": "mksUncFmB7D2",
        "colab_type": "code",
        "colab": {
          "base_uri": "https://localhost:8080/",
          "height": 34
        },
        "outputId": "491f111e-6257-4fb9-ceed-e98ebe115150"
      },
      "source": [
        "A = {1,2,3}\n",
        "B = {3,4,5}\n",
        "print( \"A:\", A, \"B:\", B)"
      ],
      "execution_count": 51,
      "outputs": [
        {
          "output_type": "stream",
          "text": [
            "A: {1, 2, 3} B: {3, 4, 5}\n"
          ],
          "name": "stdout"
        }
      ]
    },
    {
      "cell_type": "code",
      "metadata": {
        "id": "gLwobEJVBrW3",
        "colab_type": "code",
        "colab": {
          "base_uri": "https://localhost:8080/",
          "height": 34
        },
        "outputId": "98538a74-d62f-47c4-ad11-867182631208"
      },
      "source": [
        "type(A)"
      ],
      "execution_count": 57,
      "outputs": [
        {
          "output_type": "execute_result",
          "data": {
            "text/plain": [
              "set"
            ]
          },
          "metadata": {
            "tags": []
          },
          "execution_count": 57
        }
      ]
    },
    {
      "cell_type": "code",
      "metadata": {
        "id": "55qd7HzfGCHX",
        "colab_type": "code",
        "colab": {
          "base_uri": "https://localhost:8080/",
          "height": 34
        },
        "outputId": "d5fd02a8-d660-49de-b129-e2aaeb3d9e5c"
      },
      "source": [
        "#A.union(B) \n",
        "A|B"
      ],
      "execution_count": 53,
      "outputs": [
        {
          "output_type": "execute_result",
          "data": {
            "text/plain": [
              "{1, 2, 3, 4, 5}"
            ]
          },
          "metadata": {
            "tags": []
          },
          "execution_count": 53
        }
      ]
    },
    {
      "cell_type": "code",
      "metadata": {
        "id": "Ag2xAZqCkDYV",
        "colab_type": "code",
        "colab": {
          "base_uri": "https://localhost:8080/",
          "height": 34
        },
        "outputId": "2df18e70-85de-4035-873f-cb1f08dcb7ca"
      },
      "source": [
        "A.intersection(B) # A & B"
      ],
      "execution_count": 54,
      "outputs": [
        {
          "output_type": "execute_result",
          "data": {
            "text/plain": [
              "{3}"
            ]
          },
          "metadata": {
            "tags": []
          },
          "execution_count": 54
        }
      ]
    },
    {
      "cell_type": "code",
      "metadata": {
        "id": "DGtLHn97kLur",
        "colab_type": "code",
        "colab": {
          "base_uri": "https://localhost:8080/",
          "height": 34
        },
        "outputId": "1cd010a1-96ad-4783-9178-8b782ab76c3a"
      },
      "source": [
        "A - B # A\\B"
      ],
      "execution_count": 55,
      "outputs": [
        {
          "output_type": "execute_result",
          "data": {
            "text/plain": [
              "{1, 2}"
            ]
          },
          "metadata": {
            "tags": []
          },
          "execution_count": 55
        }
      ]
    },
    {
      "cell_type": "code",
      "metadata": {
        "id": "CZ212Mcmka9r",
        "colab_type": "code",
        "colab": {
          "base_uri": "https://localhost:8080/",
          "height": 34
        },
        "outputId": "0f211bd2-37da-4b68-ad6d-93c58f7286f8"
      },
      "source": [
        "empty_set = set()\n",
        "# set() = False\n",
        "\n",
        "if empty_set:\n",
        "  print(\"It is not an empty set\")\n",
        "else:\n",
        "  print(\"It is an empty set\")"
      ],
      "execution_count": 56,
      "outputs": [
        {
          "output_type": "stream",
          "text": [
            "It is an empty set\n"
          ],
          "name": "stdout"
        }
      ]
    },
    {
      "cell_type": "code",
      "metadata": {
        "id": "g6UM56CzmEvb",
        "colab_type": "code",
        "colab": {
          "base_uri": "https://localhost:8080/",
          "height": 70
        },
        "outputId": "7c65481c-3071-4c23-f748-1be2e0ebf4f9"
      },
      "source": [
        "numbers = {'odd': {1,3,5,7,9,11,13,15,17},\n",
        "           'even':{2,4,6,8,10,12,14,16},\n",
        "           'prime':{3 ,5,7,11,17}\n",
        "           }\n",
        "numbers"
      ],
      "execution_count": 17,
      "outputs": [
        {
          "output_type": "execute_result",
          "data": {
            "text/plain": [
              "{'even': {2, 4, 6, 8, 10, 12, 14, 16},\n",
              " 'odd': {1, 3, 5, 7, 9, 11, 13, 15, 17},\n",
              " 'prime': {3, 5, 7, 11, 17}}"
            ]
          },
          "metadata": {
            "tags": []
          },
          "execution_count": 17
        }
      ]
    },
    {
      "cell_type": "code",
      "metadata": {
        "id": "0oTeT2BpnEj9",
        "colab_type": "code",
        "colab": {
          "base_uri": "https://localhost:8080/",
          "height": 34
        },
        "outputId": "bda1600b-9e2f-4c90-e9d6-ffc8d62f22f9"
      },
      "source": [
        "numbers.items()"
      ],
      "execution_count": 58,
      "outputs": [
        {
          "output_type": "execute_result",
          "data": {
            "text/plain": [
              "dict_items([('odd', {1, 3, 5, 7, 9, 11, 13, 15, 17}), ('even', {2, 4, 6, 8, 10, 12, 14, 16}), ('prime', {3, 5, 7, 11, 17})])"
            ]
          },
          "metadata": {
            "tags": []
          },
          "execution_count": 58
        }
      ]
    },
    {
      "cell_type": "code",
      "metadata": {
        "id": "RmHSbwCZnp_G",
        "colab_type": "code",
        "colab": {
          "base_uri": "https://localhost:8080/",
          "height": 70
        },
        "outputId": "08b60435-6aa8-46df-c157-52fdd900a410"
      },
      "source": [
        "for name, contents in numbers.items():\n",
        "  if contents & {1,3}:\n",
        "    print(\"This set is part of\", name, \"numbers\")\n",
        "  else:\n",
        "    print(\"This set is not part of\", name, \"numbers\")"
      ],
      "execution_count": 34,
      "outputs": [
        {
          "output_type": "stream",
          "text": [
            "This set is part of odd numbers\n",
            "This set is not part of even numbers\n",
            "This set is part of prime numbers\n"
          ],
          "name": "stdout"
        }
      ]
    },
    {
      "cell_type": "markdown",
      "metadata": {
        "id": "a2HSAI2l6YFR",
        "colab_type": "text"
      },
      "source": [
        "#Problem 1\n",
        "Consider the set of cats' names and dogs' names and answer the given questions below."
      ]
    },
    {
      "cell_type": "code",
      "metadata": {
        "id": "gs0HBIr5n0LL",
        "colab_type": "code",
        "colab": {}
      },
      "source": [
        "cats = {\"Bella\", \"Charlie\", \"Molly\", \"Max\", \"Buddy\"}\n",
        "dogs = {\"Benny\", \"Max\", \"Zoya\", \"Sandy\",  \"Buddy\"}"
      ],
      "execution_count": 36,
      "outputs": []
    },
    {
      "cell_type": "markdown",
      "metadata": {
        "id": "0DDNmiAc5sMj",
        "colab_type": "text"
      },
      "source": [
        "What are the common names of dogs and cats?"
      ]
    },
    {
      "cell_type": "code",
      "metadata": {
        "id": "7OL81aVV6n34",
        "colab_type": "code",
        "colab": {
          "base_uri": "https://localhost:8080/",
          "height": 34
        },
        "outputId": "df9d85ed-842f-4f2c-a67a-f9ceeca4324e"
      },
      "source": [
        " cats.intersection(dogs)"
      ],
      "execution_count": 66,
      "outputs": [
        {
          "output_type": "execute_result",
          "data": {
            "text/plain": [
              "{'Buddy', 'Max'}"
            ]
          },
          "metadata": {
            "tags": []
          },
          "execution_count": 66
        }
      ]
    },
    {
      "cell_type": "code",
      "metadata": {
        "id": "ZSS1IuK6Cl6l",
        "colab_type": "code",
        "colab": {
          "base_uri": "https://localhost:8080/",
          "height": 34
        },
        "outputId": "24627e05-2aef-455e-b058-b90d78946d11"
      },
      "source": [
        "cats_inter_dogs = cats & dogs\n",
        "len(cats_inter_dogs)"
      ],
      "execution_count": 67,
      "outputs": [
        {
          "output_type": "execute_result",
          "data": {
            "text/plain": [
              "2"
            ]
          },
          "metadata": {
            "tags": []
          },
          "execution_count": 67
        }
      ]
    },
    {
      "cell_type": "markdown",
      "metadata": {
        "id": "D9LXsTqX6MZw",
        "colab_type": "text"
      },
      "source": [
        "What are the names of cats which are not dogs names?"
      ]
    },
    {
      "cell_type": "code",
      "metadata": {
        "id": "VE-0nlTh52pH",
        "colab_type": "code",
        "colab": {
          "base_uri": "https://localhost:8080/",
          "height": 34
        },
        "outputId": "e9e32d8b-49ec-4c60-8aa7-52e061fa0e35"
      },
      "source": [
        "cats - dogs"
      ],
      "execution_count": 61,
      "outputs": [
        {
          "output_type": "execute_result",
          "data": {
            "text/plain": [
              "{'Bella', 'Charlie', 'Molly'}"
            ]
          },
          "metadata": {
            "tags": []
          },
          "execution_count": 61
        }
      ]
    },
    {
      "cell_type": "markdown",
      "metadata": {
        "id": "PNC8o3bF6tmQ",
        "colab_type": "text"
      },
      "source": [
        "Give a set of names which are either a cat name or a dog name."
      ]
    },
    {
      "cell_type": "code",
      "metadata": {
        "id": "rENhj8On61gc",
        "colab_type": "code",
        "colab": {
          "base_uri": "https://localhost:8080/",
          "height": 34
        },
        "outputId": "5c10641f-cf3a-4874-ab49-cba1fe80f420"
      },
      "source": [
        "cats_uni_dogs = cats.union(dogs)\n",
        "len(cats_uni_dogs)"
      ],
      "execution_count": 68,
      "outputs": [
        {
          "output_type": "execute_result",
          "data": {
            "text/plain": [
              "8"
            ]
          },
          "metadata": {
            "tags": []
          },
          "execution_count": 68
        }
      ]
    },
    {
      "cell_type": "markdown",
      "metadata": {
        "id": "dQoWtI7662ZY",
        "colab_type": "text"
      },
      "source": [
        "What is the number of common names of cats and dogs?"
      ]
    },
    {
      "cell_type": "code",
      "metadata": {
        "id": "FM38PEpZ6-cm",
        "colab_type": "code",
        "colab": {
          "base_uri": "https://localhost:8080/",
          "height": 34
        },
        "outputId": "5c67bdb0-8608-47f1-917d-f1288b9012b6"
      },
      "source": [
        "cats | dogs"
      ],
      "execution_count": 70,
      "outputs": [
        {
          "output_type": "execute_result",
          "data": {
            "text/plain": [
              "{'Bella', 'Benny', 'Buddy', 'Charlie', 'Max', 'Molly', 'Sandy', 'Zoya'}"
            ]
          },
          "metadata": {
            "tags": []
          },
          "execution_count": 70
        }
      ]
    },
    {
      "cell_type": "markdown",
      "metadata": {
        "id": "Mk1xwPh17AvR",
        "colab_type": "text"
      },
      "source": [
        "Verify principal of inclusion and exclusion for the above cats and dogs names set"
      ]
    },
    {
      "cell_type": "code",
      "metadata": {
        "id": "V6KmSpY-7URl",
        "colab_type": "code",
        "colab": {
          "base_uri": "https://localhost:8080/",
          "height": 34
        },
        "outputId": "4364bae7-fb1c-4b28-b8e6-56ce69558907"
      },
      "source": [
        "#n(cats | dogs) = n(cats) + n(dogs) - n(cats & dogs)\n",
        "union = len(cats|dogs)\n",
        "n_cats = len(cats)\n",
        "n_dogs = len(dogs)\n",
        "inter = len(cats & dogs)\n",
        "print( union, n_cats, n_dogs, inter)\n",
        "\n"
      ],
      "execution_count": 72,
      "outputs": [
        {
          "output_type": "stream",
          "text": [
            "8 5 5 2\n"
          ],
          "name": "stdout"
        }
      ]
    },
    {
      "cell_type": "code",
      "metadata": {
        "id": "IqfGIC6zEe_T",
        "colab_type": "code",
        "colab": {
          "base_uri": "https://localhost:8080/",
          "height": 34
        },
        "outputId": "4b4a3d06-d7cc-41b7-dd12-086c02d9b6bf"
      },
      "source": [
        "union == n_cats + n_dogs - inter"
      ],
      "execution_count": 73,
      "outputs": [
        {
          "output_type": "execute_result",
          "data": {
            "text/plain": [
              "True"
            ]
          },
          "metadata": {
            "tags": []
          },
          "execution_count": 73
        }
      ]
    },
    {
      "cell_type": "markdown",
      "metadata": {
        "id": "xAEkg44s7dcP",
        "colab_type": "text"
      },
      "source": [
        "# Problem 2"
      ]
    },
    {
      "cell_type": "code",
      "metadata": {
        "id": "L-b4LhDREdeT",
        "colab_type": "code",
        "colab": {}
      },
      "source": [
        ""
      ],
      "execution_count": null,
      "outputs": []
    },
    {
      "cell_type": "markdown",
      "metadata": {
        "id": "50RJHilFAZ2w",
        "colab_type": "text"
      },
      "source": [
        "You can use the online version of the data set linked here. Or if you want to the dataset locally, go to your MA1308 Sec C team and downlod the data sets from \n",
        "`Class Materials/Week 1/data/Registered_Animals.csv`\n",
        "and answer the questions below.\n",
        "\n"
      ]
    },
    {
      "cell_type": "code",
      "metadata": {
        "id": "vi2yTZuHAqCf",
        "colab_type": "code",
        "colab": {}
      },
      "source": [
        "# Read the data here\n",
        "import pandas as pd\n",
        "data = pd.read_csv('https://raw.githubusercontent.com/davidrajdgl/MA1308-2020/master/data/Registered_Animals.csv')"
      ],
      "execution_count": 74,
      "outputs": []
    },
    {
      "cell_type": "code",
      "metadata": {
        "id": "SnW0IdMpBBE6",
        "colab_type": "code",
        "colab": {
          "base_uri": "https://localhost:8080/",
          "height": 308
        },
        "outputId": "aa7e1faf-f0e0-4f6d-dd6b-d15fb8bb8a42"
      },
      "source": [
        "# Print the head of the dataset\n",
        "data.info()"
      ],
      "execution_count": 77,
      "outputs": [
        {
          "output_type": "stream",
          "text": [
            "<class 'pandas.core.frame.DataFrame'>\n",
            "RangeIndex: 57258 entries, 0 to 57257\n",
            "Data columns (total 9 columns):\n",
            " #   Column         Non-Null Count  Dtype \n",
            "---  ------         --------------  ----- \n",
            " 0   AnimalType     57258 non-null  object\n",
            " 1   Name           57258 non-null  object\n",
            " 2   SpecificBreed  57245 non-null  object\n",
            " 3   PrimaryBreed   57245 non-null  object\n",
            " 4   PrimaryColour  57245 non-null  object\n",
            " 5   De-sexed       57258 non-null  object\n",
            " 6   Gender         57258 non-null  object\n",
            " 7   Age            57258 non-null  int64 \n",
            " 8   Locality       56339 non-null  object\n",
            "dtypes: int64(1), object(8)\n",
            "memory usage: 3.9+ MB\n"
          ],
          "name": "stdout"
        }
      ]
    },
    {
      "cell_type": "markdown",
      "metadata": {
        "id": "8lsBaTLND8i_",
        "colab_type": "text"
      },
      "source": [
        "Make a set of dogs' names and a set of cats' names"
      ]
    },
    {
      "cell_type": "code",
      "metadata": {
        "id": "IUipFTGQBKlB",
        "colab_type": "code",
        "colab": {}
      },
      "source": [
        ""
      ],
      "execution_count": null,
      "outputs": []
    },
    {
      "cell_type": "markdown",
      "metadata": {
        "id": "H0o87S_KEDR8",
        "colab_type": "text"
      },
      "source": [
        "What is the number of dogs name? and what is the number of cats name?"
      ]
    },
    {
      "cell_type": "code",
      "metadata": {
        "id": "ZmF96TGSEL7p",
        "colab_type": "code",
        "colab": {}
      },
      "source": [
        ""
      ],
      "execution_count": null,
      "outputs": []
    },
    {
      "cell_type": "markdown",
      "metadata": {
        "id": "3iUo3LnsEM6k",
        "colab_type": "text"
      },
      "source": [
        "What is the number names which are common to cats and dogs? "
      ]
    },
    {
      "cell_type": "code",
      "metadata": {
        "id": "VuSF0V0gETAh",
        "colab_type": "code",
        "colab": {}
      },
      "source": [
        ""
      ],
      "execution_count": null,
      "outputs": []
    },
    {
      "cell_type": "markdown",
      "metadata": {
        "id": "0W4xpPssEVes",
        "colab_type": "text"
      },
      "source": [
        "What is the number of names which are either a cats name or a dog name?"
      ]
    },
    {
      "cell_type": "code",
      "metadata": {
        "id": "w_T1YySOEaJx",
        "colab_type": "code",
        "colab": {}
      },
      "source": [
        ""
      ],
      "execution_count": null,
      "outputs": []
    },
    {
      "cell_type": "markdown",
      "metadata": {
        "id": "QgsCa44fEfRT",
        "colab_type": "text"
      },
      "source": [
        "What is the number of cats names which are not dogs names?"
      ]
    },
    {
      "cell_type": "code",
      "metadata": {
        "id": "v7crvqVREfuR",
        "colab_type": "code",
        "colab": {}
      },
      "source": [
        ""
      ],
      "execution_count": null,
      "outputs": []
    },
    {
      "cell_type": "markdown",
      "metadata": {
        "id": "AMYMb3w_Ehmb",
        "colab_type": "text"
      },
      "source": [
        "What is the number of dogs names which are not cats names?"
      ]
    },
    {
      "cell_type": "code",
      "metadata": {
        "id": "PKnBFZrpEjOx",
        "colab_type": "code",
        "colab": {}
      },
      "source": [
        ""
      ],
      "execution_count": null,
      "outputs": []
    },
    {
      "cell_type": "markdown",
      "metadata": {
        "id": "j8nb2ZjvEyM1",
        "colab_type": "text"
      },
      "source": [
        "You are now free to ask more questions on this data set and answer them here..."
      ]
    },
    {
      "cell_type": "code",
      "metadata": {
        "id": "ReVT-MHzE28R",
        "colab_type": "code",
        "colab": {}
      },
      "source": [
        ""
      ],
      "execution_count": null,
      "outputs": []
    }
  ]
}